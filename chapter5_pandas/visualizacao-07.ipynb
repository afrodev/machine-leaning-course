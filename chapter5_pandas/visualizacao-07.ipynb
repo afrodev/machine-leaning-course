{
 "cells": [
  {
   "cell_type": "code",
   "execution_count": 1,
   "metadata": {},
   "outputs": [],
   "source": [
    "%matplotlib inline\n",
    "import pandas as pd\n",
    "import matplotlib.pyplot as plt"
   ]
  },
  {
   "cell_type": "code",
   "execution_count": 3,
   "metadata": {},
   "outputs": [],
   "source": [
    "df = pd.read_csv('reported.csv')"
   ]
  },
  {
   "cell_type": "code",
   "execution_count": 4,
   "metadata": {},
   "outputs": [
    {
     "data": {
      "text/html": [
       "<div>\n",
       "<style scoped>\n",
       "    .dataframe tbody tr th:only-of-type {\n",
       "        vertical-align: middle;\n",
       "    }\n",
       "\n",
       "    .dataframe tbody tr th {\n",
       "        vertical-align: top;\n",
       "    }\n",
       "\n",
       "    .dataframe thead th {\n",
       "        text-align: right;\n",
       "    }\n",
       "</style>\n",
       "<table border=\"1\" class=\"dataframe\">\n",
       "  <thead>\n",
       "    <tr style=\"text-align: right;\">\n",
       "      <th></th>\n",
       "      <th>Year</th>\n",
       "      <th>crimes.total</th>\n",
       "      <th>crimes.penal.code</th>\n",
       "      <th>crimes.person</th>\n",
       "      <th>murder</th>\n",
       "      <th>assault</th>\n",
       "      <th>sexual.offenses</th>\n",
       "      <th>rape</th>\n",
       "      <th>stealing.general</th>\n",
       "      <th>burglary</th>\n",
       "      <th>...</th>\n",
       "      <th>vehicle.theft</th>\n",
       "      <th>out.of.vehicle.theft</th>\n",
       "      <th>shop.theft</th>\n",
       "      <th>robbery</th>\n",
       "      <th>fraud</th>\n",
       "      <th>criminal.damage</th>\n",
       "      <th>other.penal.crimes</th>\n",
       "      <th>narcotics</th>\n",
       "      <th>drunk.driving</th>\n",
       "      <th>population</th>\n",
       "    </tr>\n",
       "  </thead>\n",
       "  <tbody>\n",
       "    <tr>\n",
       "      <th>0</th>\n",
       "      <td>1950</td>\n",
       "      <td>2784</td>\n",
       "      <td>2306</td>\n",
       "      <td>120</td>\n",
       "      <td>1</td>\n",
       "      <td>105</td>\n",
       "      <td>40</td>\n",
       "      <td>5</td>\n",
       "      <td>1578</td>\n",
       "      <td>295</td>\n",
       "      <td>...</td>\n",
       "      <td>NaN</td>\n",
       "      <td>NaN</td>\n",
       "      <td>NaN</td>\n",
       "      <td>3</td>\n",
       "      <td>209</td>\n",
       "      <td>72</td>\n",
       "      <td>477</td>\n",
       "      <td>0.0</td>\n",
       "      <td>49</td>\n",
       "      <td>7014000</td>\n",
       "    </tr>\n",
       "    <tr>\n",
       "      <th>1</th>\n",
       "      <td>1951</td>\n",
       "      <td>3284</td>\n",
       "      <td>2754</td>\n",
       "      <td>125</td>\n",
       "      <td>1</td>\n",
       "      <td>109</td>\n",
       "      <td>45</td>\n",
       "      <td>6</td>\n",
       "      <td>1899</td>\n",
       "      <td>342</td>\n",
       "      <td>...</td>\n",
       "      <td>NaN</td>\n",
       "      <td>NaN</td>\n",
       "      <td>NaN</td>\n",
       "      <td>3</td>\n",
       "      <td>310</td>\n",
       "      <td>73</td>\n",
       "      <td>530</td>\n",
       "      <td>0.0</td>\n",
       "      <td>66</td>\n",
       "      <td>7073000</td>\n",
       "    </tr>\n",
       "    <tr>\n",
       "      <th>2</th>\n",
       "      <td>1952</td>\n",
       "      <td>3160</td>\n",
       "      <td>2608</td>\n",
       "      <td>119</td>\n",
       "      <td>1</td>\n",
       "      <td>104</td>\n",
       "      <td>39</td>\n",
       "      <td>4</td>\n",
       "      <td>1846</td>\n",
       "      <td>372</td>\n",
       "      <td>...</td>\n",
       "      <td>NaN</td>\n",
       "      <td>NaN</td>\n",
       "      <td>NaN</td>\n",
       "      <td>3</td>\n",
       "      <td>217</td>\n",
       "      <td>82</td>\n",
       "      <td>553</td>\n",
       "      <td>0.0</td>\n",
       "      <td>78</td>\n",
       "      <td>7125000</td>\n",
       "    </tr>\n",
       "    <tr>\n",
       "      <th>3</th>\n",
       "      <td>1953</td>\n",
       "      <td>2909</td>\n",
       "      <td>2689</td>\n",
       "      <td>119</td>\n",
       "      <td>1</td>\n",
       "      <td>105</td>\n",
       "      <td>45</td>\n",
       "      <td>5</td>\n",
       "      <td>1929</td>\n",
       "      <td>361</td>\n",
       "      <td>...</td>\n",
       "      <td>NaN</td>\n",
       "      <td>NaN</td>\n",
       "      <td>NaN</td>\n",
       "      <td>4</td>\n",
       "      <td>209</td>\n",
       "      <td>88</td>\n",
       "      <td>220</td>\n",
       "      <td>0.0</td>\n",
       "      <td>91</td>\n",
       "      <td>7171000</td>\n",
       "    </tr>\n",
       "    <tr>\n",
       "      <th>4</th>\n",
       "      <td>1954</td>\n",
       "      <td>3028</td>\n",
       "      <td>2791</td>\n",
       "      <td>126</td>\n",
       "      <td>1</td>\n",
       "      <td>107</td>\n",
       "      <td>41</td>\n",
       "      <td>5</td>\n",
       "      <td>1981</td>\n",
       "      <td>393</td>\n",
       "      <td>...</td>\n",
       "      <td>NaN</td>\n",
       "      <td>NaN</td>\n",
       "      <td>NaN</td>\n",
       "      <td>4</td>\n",
       "      <td>236</td>\n",
       "      <td>101</td>\n",
       "      <td>237</td>\n",
       "      <td>0.0</td>\n",
       "      <td>103</td>\n",
       "      <td>7213000</td>\n",
       "    </tr>\n",
       "  </tbody>\n",
       "</table>\n",
       "<p>5 rows × 21 columns</p>\n",
       "</div>"
      ],
      "text/plain": [
       "   Year  crimes.total  crimes.penal.code  crimes.person  murder  assault  \\\n",
       "0  1950          2784               2306            120       1      105   \n",
       "1  1951          3284               2754            125       1      109   \n",
       "2  1952          3160               2608            119       1      104   \n",
       "3  1953          2909               2689            119       1      105   \n",
       "4  1954          3028               2791            126       1      107   \n",
       "\n",
       "   sexual.offenses  rape  stealing.general  burglary     ...      \\\n",
       "0               40     5              1578       295     ...       \n",
       "1               45     6              1899       342     ...       \n",
       "2               39     4              1846       372     ...       \n",
       "3               45     5              1929       361     ...       \n",
       "4               41     5              1981       393     ...       \n",
       "\n",
       "   vehicle.theft  out.of.vehicle.theft  shop.theft  robbery  fraud  \\\n",
       "0            NaN                   NaN         NaN        3    209   \n",
       "1            NaN                   NaN         NaN        3    310   \n",
       "2            NaN                   NaN         NaN        3    217   \n",
       "3            NaN                   NaN         NaN        4    209   \n",
       "4            NaN                   NaN         NaN        4    236   \n",
       "\n",
       "   criminal.damage  other.penal.crimes  narcotics  drunk.driving  population  \n",
       "0               72                 477        0.0             49     7014000  \n",
       "1               73                 530        0.0             66     7073000  \n",
       "2               82                 553        0.0             78     7125000  \n",
       "3               88                 220        0.0             91     7171000  \n",
       "4              101                 237        0.0            103     7213000  \n",
       "\n",
       "[5 rows x 21 columns]"
      ]
     },
     "execution_count": 4,
     "metadata": {},
     "output_type": "execute_result"
    }
   ],
   "source": [
    "df.head()"
   ]
  },
  {
   "cell_type": "code",
   "execution_count": 5,
   "metadata": {},
   "outputs": [],
   "source": [
    "df.fillna(0, inplace=True)"
   ]
  },
  {
   "cell_type": "code",
   "execution_count": 6,
   "metadata": {},
   "outputs": [
    {
     "data": {
      "text/html": [
       "<div>\n",
       "<style scoped>\n",
       "    .dataframe tbody tr th:only-of-type {\n",
       "        vertical-align: middle;\n",
       "    }\n",
       "\n",
       "    .dataframe tbody tr th {\n",
       "        vertical-align: top;\n",
       "    }\n",
       "\n",
       "    .dataframe thead th {\n",
       "        text-align: right;\n",
       "    }\n",
       "</style>\n",
       "<table border=\"1\" class=\"dataframe\">\n",
       "  <thead>\n",
       "    <tr style=\"text-align: right;\">\n",
       "      <th></th>\n",
       "      <th>Year</th>\n",
       "      <th>crimes.total</th>\n",
       "      <th>crimes.penal.code</th>\n",
       "      <th>crimes.person</th>\n",
       "      <th>murder</th>\n",
       "      <th>assault</th>\n",
       "      <th>sexual.offenses</th>\n",
       "      <th>rape</th>\n",
       "      <th>stealing.general</th>\n",
       "      <th>burglary</th>\n",
       "      <th>...</th>\n",
       "      <th>vehicle.theft</th>\n",
       "      <th>out.of.vehicle.theft</th>\n",
       "      <th>shop.theft</th>\n",
       "      <th>robbery</th>\n",
       "      <th>fraud</th>\n",
       "      <th>criminal.damage</th>\n",
       "      <th>other.penal.crimes</th>\n",
       "      <th>narcotics</th>\n",
       "      <th>drunk.driving</th>\n",
       "      <th>population</th>\n",
       "    </tr>\n",
       "  </thead>\n",
       "  <tbody>\n",
       "    <tr>\n",
       "      <th>0</th>\n",
       "      <td>1950</td>\n",
       "      <td>2784</td>\n",
       "      <td>2306</td>\n",
       "      <td>120</td>\n",
       "      <td>1</td>\n",
       "      <td>105</td>\n",
       "      <td>40</td>\n",
       "      <td>5</td>\n",
       "      <td>1578</td>\n",
       "      <td>295</td>\n",
       "      <td>...</td>\n",
       "      <td>0.0</td>\n",
       "      <td>0.0</td>\n",
       "      <td>0.0</td>\n",
       "      <td>3</td>\n",
       "      <td>209</td>\n",
       "      <td>72</td>\n",
       "      <td>477</td>\n",
       "      <td>0.0</td>\n",
       "      <td>49</td>\n",
       "      <td>7014000</td>\n",
       "    </tr>\n",
       "    <tr>\n",
       "      <th>1</th>\n",
       "      <td>1951</td>\n",
       "      <td>3284</td>\n",
       "      <td>2754</td>\n",
       "      <td>125</td>\n",
       "      <td>1</td>\n",
       "      <td>109</td>\n",
       "      <td>45</td>\n",
       "      <td>6</td>\n",
       "      <td>1899</td>\n",
       "      <td>342</td>\n",
       "      <td>...</td>\n",
       "      <td>0.0</td>\n",
       "      <td>0.0</td>\n",
       "      <td>0.0</td>\n",
       "      <td>3</td>\n",
       "      <td>310</td>\n",
       "      <td>73</td>\n",
       "      <td>530</td>\n",
       "      <td>0.0</td>\n",
       "      <td>66</td>\n",
       "      <td>7073000</td>\n",
       "    </tr>\n",
       "    <tr>\n",
       "      <th>2</th>\n",
       "      <td>1952</td>\n",
       "      <td>3160</td>\n",
       "      <td>2608</td>\n",
       "      <td>119</td>\n",
       "      <td>1</td>\n",
       "      <td>104</td>\n",
       "      <td>39</td>\n",
       "      <td>4</td>\n",
       "      <td>1846</td>\n",
       "      <td>372</td>\n",
       "      <td>...</td>\n",
       "      <td>0.0</td>\n",
       "      <td>0.0</td>\n",
       "      <td>0.0</td>\n",
       "      <td>3</td>\n",
       "      <td>217</td>\n",
       "      <td>82</td>\n",
       "      <td>553</td>\n",
       "      <td>0.0</td>\n",
       "      <td>78</td>\n",
       "      <td>7125000</td>\n",
       "    </tr>\n",
       "    <tr>\n",
       "      <th>3</th>\n",
       "      <td>1953</td>\n",
       "      <td>2909</td>\n",
       "      <td>2689</td>\n",
       "      <td>119</td>\n",
       "      <td>1</td>\n",
       "      <td>105</td>\n",
       "      <td>45</td>\n",
       "      <td>5</td>\n",
       "      <td>1929</td>\n",
       "      <td>361</td>\n",
       "      <td>...</td>\n",
       "      <td>0.0</td>\n",
       "      <td>0.0</td>\n",
       "      <td>0.0</td>\n",
       "      <td>4</td>\n",
       "      <td>209</td>\n",
       "      <td>88</td>\n",
       "      <td>220</td>\n",
       "      <td>0.0</td>\n",
       "      <td>91</td>\n",
       "      <td>7171000</td>\n",
       "    </tr>\n",
       "    <tr>\n",
       "      <th>4</th>\n",
       "      <td>1954</td>\n",
       "      <td>3028</td>\n",
       "      <td>2791</td>\n",
       "      <td>126</td>\n",
       "      <td>1</td>\n",
       "      <td>107</td>\n",
       "      <td>41</td>\n",
       "      <td>5</td>\n",
       "      <td>1981</td>\n",
       "      <td>393</td>\n",
       "      <td>...</td>\n",
       "      <td>0.0</td>\n",
       "      <td>0.0</td>\n",
       "      <td>0.0</td>\n",
       "      <td>4</td>\n",
       "      <td>236</td>\n",
       "      <td>101</td>\n",
       "      <td>237</td>\n",
       "      <td>0.0</td>\n",
       "      <td>103</td>\n",
       "      <td>7213000</td>\n",
       "    </tr>\n",
       "  </tbody>\n",
       "</table>\n",
       "<p>5 rows × 21 columns</p>\n",
       "</div>"
      ],
      "text/plain": [
       "   Year  crimes.total  crimes.penal.code  crimes.person  murder  assault  \\\n",
       "0  1950          2784               2306            120       1      105   \n",
       "1  1951          3284               2754            125       1      109   \n",
       "2  1952          3160               2608            119       1      104   \n",
       "3  1953          2909               2689            119       1      105   \n",
       "4  1954          3028               2791            126       1      107   \n",
       "\n",
       "   sexual.offenses  rape  stealing.general  burglary     ...      \\\n",
       "0               40     5              1578       295     ...       \n",
       "1               45     6              1899       342     ...       \n",
       "2               39     4              1846       372     ...       \n",
       "3               45     5              1929       361     ...       \n",
       "4               41     5              1981       393     ...       \n",
       "\n",
       "   vehicle.theft  out.of.vehicle.theft  shop.theft  robbery  fraud  \\\n",
       "0            0.0                   0.0         0.0        3    209   \n",
       "1            0.0                   0.0         0.0        3    310   \n",
       "2            0.0                   0.0         0.0        3    217   \n",
       "3            0.0                   0.0         0.0        4    209   \n",
       "4            0.0                   0.0         0.0        4    236   \n",
       "\n",
       "   criminal.damage  other.penal.crimes  narcotics  drunk.driving  population  \n",
       "0               72                 477        0.0             49     7014000  \n",
       "1               73                 530        0.0             66     7073000  \n",
       "2               82                 553        0.0             78     7125000  \n",
       "3               88                 220        0.0             91     7171000  \n",
       "4              101                 237        0.0            103     7213000  \n",
       "\n",
       "[5 rows x 21 columns]"
      ]
     },
     "execution_count": 6,
     "metadata": {},
     "output_type": "execute_result"
    }
   ],
   "source": [
    "df.head()"
   ]
  },
  {
   "cell_type": "code",
   "execution_count": 7,
   "metadata": {},
   "outputs": [
    {
     "data": {
      "image/png": "[encoded data removed]",
      "text/plain": [
       "<matplotlib.figure.Figure at 0x107844208>"
      ]
     },
     "metadata": {},
     "output_type": "display_data"
    }
   ],
   "source": [
    "plt.plot(df['Year'], df['crimes.total'], '-r')\n",
    "plt.plot(df['Year'], df['crimes.person'], '-b')\n",
    "plt.show()"
   ]
  },
  {
   "cell_type": "code",
   "execution_count": 8,
   "metadata": {},
   "outputs": [
    {
     "data": {
      "text/plain": [
       "<matplotlib.legend.Legend at 0x10793b710>"
      ]
     },
     "execution_count": 8,
     "metadata": {},
     "output_type": "execute_result"
    },
    {
     "data": {
      "image/png": "[encoded data removed]",
      "text/plain": [
       "<matplotlib.figure.Figure at 0x10780aef0>"
      ]
     },
     "metadata": {},
     "output_type": "display_data"
    }
   ],
   "source": [
    "fig, ax = plt.subplots()\n",
    "ax.plot(df['Year'], df['crimes.total'], '-r')\n",
    "ax.plot(df['Year'], df['crimes.person'], '-b')\n",
    "ax.legend()"
   ]
  },
  {
   "cell_type": "code",
   "execution_count": 9,
   "metadata": {},
   "outputs": [
    {
     "data": {
      "text/plain": [
       "<matplotlib.legend.Legend at 0x1079c1358>"
      ]
     },
     "execution_count": 9,
     "metadata": {},
     "output_type": "execute_result"
    },
    {
     "data": {
      "image/png": "[encoded data removed]",
      "text/plain": [
       "<matplotlib.figure.Figure at 0x10795b0b8>"
      ]
     },
     "metadata": {},
     "output_type": "display_data"
    }
   ],
   "source": [
    "fig, ax = plt.subplots()\n",
    "ax.plot(df['Year'], df['crimes.total'], '-r')\n",
    "ax.plot(df['Year'], df['crimes.person'], '-b')\n",
    "ax.legend(loc='upper left')"
   ]
  },
  {
   "cell_type": "code",
   "execution_count": 10,
   "metadata": {},
   "outputs": [
    {
     "data": {
      "text/plain": [
       "Text(0.5,1,'Crimes: Total x Person')"
      ]
     },
     "execution_count": 10,
     "metadata": {},
     "output_type": "execute_result"
    },
    {
     "data": {
      "image/png": "[encoded data removed]",
      "text/plain": [
       "<matplotlib.figure.Figure at 0x1079ab828>"
      ]
     },
     "metadata": {},
     "output_type": "display_data"
    }
   ],
   "source": [
    "fig, ax = plt.subplots()\n",
    "ax.plot(df['Year'], df['crimes.total'], '-r')\n",
    "ax.plot(df['Year'], df['crimes.person'], '-b')\n",
    "ax.legend(loc='upper left')\n",
    "ax.set_ylabel('Quantity')\n",
    "ax.set_xlabel('Year')\n",
    "ax.set_title('Crimes: Total x Person')"
   ]
  },
  {
   "cell_type": "code",
   "execution_count": 11,
   "metadata": {},
   "outputs": [
    {
     "data": {
      "text/plain": [
       "[]"
      ]
     },
     "execution_count": 11,
     "metadata": {},
     "output_type": "execute_result"
    },
    {
     "data": {
      "image/png": "[encoded data removed]",
      "text/plain": [
       "<matplotlib.figure.Figure at 0x1079dc208>"
      ]
     },
     "metadata": {},
     "output_type": "display_data"
    }
   ],
   "source": [
    "fig, ax = plt.subplots()\n",
    "ax.plot(df['Year'], df['crimes.total'], '-r')\n",
    "ax.plot(df['Year'], df['crimes.person'], '-b')\n",
    "ax.legend(loc='upper left')\n",
    "ax.set_ylabel('Quantity')\n",
    "ax.set_xlabel('Year')\n",
    "ax.set_title('Crimes: Total x Person')\n",
    "ax.set_xlim([df['Year'].min(), df['Year'].max()])\n",
    "ax.plot()"
   ]
  },
  {
   "cell_type": "code",
   "execution_count": null,
   "metadata": {
    "collapsed": true
   },
   "outputs": [],
   "source": []
  }
 ],
 "metadata": {
  "kernelspec": {
   "display_name": "Python 3",
   "language": "python",
   "name": "python3"
  },
  "language_info": {
   "codemirror_mode": {
    "name": "ipython",
    "version": 3
   },
   "file_extension": ".py",
   "mimetype": "text/x-python",
   "name": "python",
   "nbconvert_exporter": "python",
   "pygments_lexer": "ipython3",
   "version": "3.6.3"
  }
 },
 "nbformat": 4,
 "nbformat_minor": 1
}
