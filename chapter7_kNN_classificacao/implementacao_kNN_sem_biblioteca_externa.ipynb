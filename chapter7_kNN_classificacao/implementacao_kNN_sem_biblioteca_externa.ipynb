{
 "cells": [
  {
   "cell_type": "code",
   "execution_count": 19,
   "metadata": {},
   "outputs": [],
   "source": [
    "'''\n",
    "Implementação kNN\n",
    "dataset: https://archive.ics.uci.edu/ml/datasets/Haberman%27s+Survival\n",
    "Descrição do Dataset: Sobrevivência de pacientes submetidos a cirurgia de câncer de mama\n",
    "'''\n",
    "\n",
    "# lista de amostras\n",
    "amostras = []\n"
   ]
  },
  {
   "cell_type": "code",
   "execution_count": 20,
   "metadata": {},
   "outputs": [],
   "source": [
    "with open('haberman.data', 'r') as f:\n",
    "    for linha in f.readlines():\n",
    "        atrib = linha.replace('\\n', '').split(',')\n",
    "        \n",
    "        # atributes\n",
    "        age = int(atrib[0])\n",
    "        operationYear = int(atrib[1])\n",
    "        nodesNumber = int(atrib[2])\n",
    "        survivorStatus = int(atrib[3])\n",
    "        \n",
    "        amostras.append([age, operationYear, nodesNumber, survivorStatus])\n",
    "        "
   ]
  },
  {
   "cell_type": "code",
   "execution_count": 21,
   "metadata": {},
   "outputs": [
    {
     "data": {
      "text/plain": [
       "306"
      ]
     },
     "execution_count": 21,
     "metadata": {},
     "output_type": "execute_result"
    }
   ],
   "source": [
    "len(amostras)"
   ]
  },
  {
   "cell_type": "code",
   "execution_count": 25,
   "metadata": {},
   "outputs": [],
   "source": [
    "def info_dataset(amostras, verbose=True):\n",
    "    if verbose:\n",
    "        print(\"TOTAL DE AMOSTRAS: %d\" % len(amostras))\n",
    "\n",
    "    rotulo1,rotulo2 = 0,0\n",
    "    \n",
    "    for amostra in amostras:\n",
    "        if amostra[-1] == 1: # pega o survivorStatus de cada linha da amostra\n",
    "            rotulo1 += 1\n",
    "        else:\n",
    "            rotulo2 += 1\n",
    "    \n",
    "    if verbose:\n",
    "        print('Total rotulo 1: %d VIVERAM MAIS DE 5 ANOS' % rotulo1)\n",
    "        print('Total rotulo 2: %d MORRERAM' % rotulo2)\n",
    "        \n",
    "    return [len(amostras), rotulo1, rotulo2]\n",
    "\n",
    "        "
   ]
  },
  {
   "cell_type": "code",
   "execution_count": 26,
   "metadata": {},
   "outputs": [
    {
     "name": "stdout",
     "output_type": "stream",
     "text": [
      "TOTAL DE AMOSTRAS: 306\n",
      "Total rotulo 1: 225 VIVERAM MAIS DE 5 ANOS\n",
      "Total rotulo 2: 81 MORRERAM\n"
     ]
    },
    {
     "data": {
      "text/plain": [
       "[306, 225, 81]"
      ]
     },
     "execution_count": 26,
     "metadata": {},
     "output_type": "execute_result"
    }
   ],
   "source": [
    "info_dataset(amostras)"
   ]
  },
  {
   "cell_type": "code",
   "execution_count": 30,
   "metadata": {},
   "outputs": [],
   "source": [
    "p = 0.6 # Percentual utilizado para teste\n",
    "_, rotulo1, rotulo2 = info_dataset(amostras, verbose=False)"
   ]
  },
  {
   "cell_type": "code",
   "execution_count": 36,
   "metadata": {},
   "outputs": [],
   "source": [
    "treinamento, teste = [], [] # rotulo == atributos\n",
    "max_rotulo1, max_rotulo2 = int(p* rotulo1), int(p * rotulo2) # percentual do parametro 1 e 2\n",
    "total_rotulo1, total_rotulo2 = 0,0\n",
    "for amostra in amostras:\n",
    "    if (total_rotulo1 + total_rotulo2) < (max_rotulo1 + max_rotulo2):\n",
    "        treinamento.append(amostra)\n",
    "        if amostra[-1] == 1 and total_rotulo1 < max_rotulo1:\n",
    "            total_rotulo1 += 1\n",
    "        else:\n",
    "            total_rotulo2 += 1\n",
    "    else:\n",
    "        teste.append(amostra)"
   ]
  },
  {
   "cell_type": "code",
   "execution_count": 37,
   "metadata": {},
   "outputs": [
    {
     "name": "stdout",
     "output_type": "stream",
     "text": [
      "183\n"
     ]
    }
   ],
   "source": [
    "print(len(treinamento))"
   ]
  },
  {
   "cell_type": "code",
   "execution_count": 38,
   "metadata": {},
   "outputs": [
    {
     "name": "stdout",
     "output_type": "stream",
     "text": [
      "TOTAL DE AMOSTRAS: 123\n",
      "Total rotulo 1: 93 VIVERAM MAIS DE 5 ANOS\n",
      "Total rotulo 2: 30 MORRERAM\n"
     ]
    },
    {
     "data": {
      "text/plain": [
       "[123, 93, 30]"
      ]
     },
     "execution_count": 38,
     "metadata": {},
     "output_type": "execute_result"
    }
   ],
   "source": [
    "info_dataset(teste)"
   ]
  },
  {
   "cell_type": "code",
   "execution_count": 39,
   "metadata": {},
   "outputs": [
    {
     "name": "stdout",
     "output_type": "stream",
     "text": [
      "TOTAL DE AMOSTRAS: 123\n",
      "Total rotulo 1: 93 VIVERAM MAIS DE 5 ANOS\n",
      "Total rotulo 2: 30 MORRERAM\n",
      "TOTAL DE AMOSTRAS: 306\n",
      "Total rotulo 1: 225 VIVERAM MAIS DE 5 ANOS\n",
      "Total rotulo 2: 81 MORRERAM\n"
     ]
    },
    {
     "data": {
      "text/plain": [
       "[306, 225, 81]"
      ]
     },
     "execution_count": 39,
     "metadata": {},
     "output_type": "execute_result"
    }
   ],
   "source": [
    "info_dataset(teste)\n",
    "info_dataset(amostras)"
   ]
  },
  {
   "cell_type": "code",
   "execution_count": 40,
   "metadata": {},
   "outputs": [],
   "source": [
    "import math"
   ]
  },
  {
   "cell_type": "code",
   "execution_count": 41,
   "metadata": {},
   "outputs": [],
   "source": [
    "def dist_euclidiana(v1, v2):\n",
    "    dim, soma = len(v1), 0\n",
    "    for i in range(dim - 1): # pois não quero pegar a saída, se ele morreu ou não\n",
    "        soma += math.pow(v1[i] - v2[i], 2)\n",
    "    return math.sqrt(soma)"
   ]
  },
  {
   "cell_type": "code",
   "execution_count": 42,
   "metadata": {},
   "outputs": [
    {
     "data": {
      "text/plain": [
       "1.4142135623730951"
      ]
     },
     "execution_count": 42,
     "metadata": {},
     "output_type": "execute_result"
    }
   ],
   "source": [
    "# teste da distancia euclidiana\n",
    "v1 = [1,2,3]\n",
    "v2 = [2,1,3]\n",
    "dist_euclidiana(v1,v2)"
   ]
  },
  {
   "cell_type": "code",
   "execution_count": 49,
   "metadata": {},
   "outputs": [],
   "source": [
    "# Calculando o kNN\n",
    "def knn(treinamento, nova_amostra, K):\n",
    "    # chave seja o indice e valor a própria distancia\n",
    "    dists, tam_treino = {}, len(treinamento)\n",
    "\n",
    "    # calcula a distancia euclidiana da nova amostra para\n",
    "    # todos os outros exemplos do conjunto de treinamento\n",
    "    for i in range(tam_treino):\n",
    "        d = dist_euclidiana(treinamento[i], nova_amostra)\n",
    "        dists[i] = d\n",
    "        \n",
    "        \n",
    "    # Pegar os K vizinhos mais próximos, os que tem menor distancia\n",
    "    # obtém as chaves (índices)\n",
    "    k_vizinhos = sorted(dists, key=dists.get)[:K]\n",
    "    \n",
    "    #votação amjoritária\n",
    "    qtd_rotulo1, qtd_rotulo2 = 0,0\n",
    "    for indice in k_vizinhos:\n",
    "        if treinamento[indice][-1] == 1: # viveu\n",
    "            qtd_rotulo1 += 1\n",
    "        else:\n",
    "            qtd_rotulo2 += 1 # morreu\n",
    "    \n",
    "    if qtd_rotulo1 > qtd_rotulo2: # existir mais viveu então é viveu\n",
    "        return 1\n",
    "    else: # se existir mais morreu então morreu\n",
    "        return 2\n",
    "    \n",
    "    "
   ]
  },
  {
   "cell_type": "code",
   "execution_count": 56,
   "metadata": {},
   "outputs": [
    {
     "name": "stdout",
     "output_type": "stream",
     "text": [
      "UM DOS CASOS NOVOS:  [55, 58, 0, 1]\n",
      "PREVISAO DO CASO NOVO:  1\n"
     ]
    }
   ],
   "source": [
    "print(\"UM DOS CASOS NOVOS: \", teste[0])\n",
    "print(\"PREVISAO DO CASO NOVO: \", knn(treinamento, teste[0], K=13))"
   ]
  },
  {
   "cell_type": "code",
   "execution_count": 73,
   "metadata": {},
   "outputs": [
    {
     "name": "stdout",
     "output_type": "stream",
     "text": [
      "Total de treinamento 183\n",
      "Total de testes 123\n",
      "Total de acertos 93\n",
      "Porcentagem de acertos: 75.61%\n"
     ]
    }
   ],
   "source": [
    "acertos, K = 0, 15\n",
    "for amostra in teste:\n",
    "    classe = knn(treinamento, amostra, K)\n",
    "    if amostra[-1] == classe:\n",
    "        acertos += 1\n",
    "        \n",
    "print('Total de treinamento %d' % len(treinamento))\n",
    "print('Total de testes %d' % len(teste))\n",
    "print('Total de acertos %d'% acertos)\n",
    "print('Porcentagem de acertos: %.2f%%' % (100 * acertos / len(teste)))\n"
   ]
  },
  {
   "cell_type": "code",
   "execution_count": null,
   "metadata": {},
   "outputs": [],
   "source": [
    "## Implementação com sklearn"
   ]
  },
  {
   "cell_type": "code",
   "execution_count": null,
   "metadata": {},
   "outputs": [],
   "source": []
  },
  {
   "cell_type": "code",
   "execution_count": null,
   "metadata": {},
   "outputs": [],
   "source": []
  },
  {
   "cell_type": "code",
   "execution_count": null,
   "metadata": {},
   "outputs": [],
   "source": []
  },
  {
   "cell_type": "code",
   "execution_count": null,
   "metadata": {},
   "outputs": [],
   "source": []
  },
  {
   "cell_type": "code",
   "execution_count": null,
   "metadata": {},
   "outputs": [],
   "source": []
  },
  {
   "cell_type": "code",
   "execution_count": null,
   "metadata": {},
   "outputs": [],
   "source": []
  },
  {
   "cell_type": "code",
   "execution_count": null,
   "metadata": {},
   "outputs": [],
   "source": []
  },
  {
   "cell_type": "code",
   "execution_count": null,
   "metadata": {},
   "outputs": [],
   "source": []
  },
  {
   "cell_type": "code",
   "execution_count": null,
   "metadata": {},
   "outputs": [],
   "source": []
  },
  {
   "cell_type": "code",
   "execution_count": null,
   "metadata": {},
   "outputs": [],
   "source": []
  },
  {
   "cell_type": "code",
   "execution_count": null,
   "metadata": {},
   "outputs": [],
   "source": []
  },
  {
   "cell_type": "code",
   "execution_count": null,
   "metadata": {},
   "outputs": [],
   "source": []
  },
  {
   "cell_type": "code",
   "execution_count": null,
   "metadata": {},
   "outputs": [],
   "source": []
  },
  {
   "cell_type": "code",
   "execution_count": null,
   "metadata": {},
   "outputs": [],
   "source": []
  },
  {
   "cell_type": "code",
   "execution_count": null,
   "metadata": {},
   "outputs": [],
   "source": []
  },
  {
   "cell_type": "code",
   "execution_count": null,
   "metadata": {},
   "outputs": [],
   "source": []
  },
  {
   "cell_type": "code",
   "execution_count": null,
   "metadata": {},
   "outputs": [],
   "source": []
  },
  {
   "cell_type": "code",
   "execution_count": null,
   "metadata": {},
   "outputs": [],
   "source": []
  },
  {
   "cell_type": "code",
   "execution_count": null,
   "metadata": {},
   "outputs": [],
   "source": []
  },
  {
   "cell_type": "code",
   "execution_count": null,
   "metadata": {},
   "outputs": [],
   "source": []
  },
  {
   "cell_type": "code",
   "execution_count": 51,
   "metadata": {},
   "outputs": [
    {
     "name": "stdout",
     "output_type": "stream",
     "text": [
      "1\n"
     ]
    }
   ],
   "source": [
    "\n"
   ]
  },
  {
   "cell_type": "code",
   "execution_count": null,
   "metadata": {},
   "outputs": [],
   "source": []
  },
  {
   "cell_type": "code",
   "execution_count": null,
   "metadata": {},
   "outputs": [],
   "source": []
  },
  {
   "cell_type": "code",
   "execution_count": 47,
   "metadata": {},
   "outputs": [
    {
     "data": {
      "text/plain": [
       "[3, 1]"
      ]
     },
     "execution_count": 47,
     "metadata": {},
     "output_type": "execute_result"
    }
   ],
   "source": [
    "# ordena por uma chave do dicionário e pega os dois primeiros\n",
    "d = {1:2.34, 2:3.45, 3:0.25, 4:9.8}\n",
    "sorted(d, key=d.get)[:2] \n",
    "# caso quisesse os maiores, então reverse=True\n"
   ]
  },
  {
   "cell_type": "code",
   "execution_count": null,
   "metadata": {},
   "outputs": [],
   "source": []
  },
  {
   "cell_type": "code",
   "execution_count": null,
   "metadata": {},
   "outputs": [],
   "source": []
  },
  {
   "cell_type": "code",
   "execution_count": null,
   "metadata": {},
   "outputs": [],
   "source": []
  },
  {
   "cell_type": "code",
   "execution_count": null,
   "metadata": {},
   "outputs": [],
   "source": []
  },
  {
   "cell_type": "code",
   "execution_count": null,
   "metadata": {},
   "outputs": [],
   "source": []
  },
  {
   "cell_type": "code",
   "execution_count": null,
   "metadata": {},
   "outputs": [],
   "source": []
  },
  {
   "cell_type": "code",
   "execution_count": null,
   "metadata": {},
   "outputs": [],
   "source": []
  },
  {
   "cell_type": "code",
   "execution_count": null,
   "metadata": {},
   "outputs": [],
   "source": []
  },
  {
   "cell_type": "code",
   "execution_count": null,
   "metadata": {},
   "outputs": [],
   "source": []
  },
  {
   "cell_type": "code",
   "execution_count": null,
   "metadata": {},
   "outputs": [],
   "source": []
  }
 ],
 "metadata": {
  "kernelspec": {
   "display_name": "Python 3",
   "language": "python",
   "name": "python3"
  },
  "language_info": {
   "codemirror_mode": {
    "name": "ipython",
    "version": 3
   },
   "file_extension": ".py",
   "mimetype": "text/x-python",
   "name": "python",
   "nbconvert_exporter": "python",
   "pygments_lexer": "ipython3",
   "version": "3.6.3"
  }
 },
 "nbformat": 4,
 "nbformat_minor": 2
}
