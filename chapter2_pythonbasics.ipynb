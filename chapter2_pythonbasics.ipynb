{
 "cells": [
  {
   "cell_type": "code",
   "execution_count": 1,
   "metadata": {},
   "outputs": [
    {
     "name": "stdout",
     "output_type": "stream",
     "text": [
      "hello world\n"
     ]
    }
   ],
   "source": [
    "print('hello world')"
   ]
  },
  {
   "cell_type": "code",
   "execution_count": 3,
   "metadata": {},
   "outputs": [
    {
     "name": "stdout",
     "output_type": "stream",
     "text": [
      "10\n"
     ]
    }
   ],
   "source": [
    "idade = 10\n",
    "print(idade)"
   ]
  },
  {
   "cell_type": "code",
   "execution_count": 4,
   "metadata": {},
   "outputs": [
    {
     "name": "stdout",
     "output_type": "stream",
     "text": [
      "3.14\n"
     ]
    },
    {
     "data": {
      "text/plain": [
       "float"
      ]
     },
     "execution_count": 4,
     "metadata": {},
     "output_type": "execute_result"
    }
   ],
   "source": [
    "var_pi = 3.14\n",
    "print(var_pi)\n",
    "type(var_pi)"
   ]
  },
  {
   "cell_type": "code",
   "execution_count": 11,
   "metadata": {},
   "outputs": [
    {
     "name": "stdout",
     "output_type": "stream",
     "text": [
      "False\n",
      "True\n",
      "False\n",
      "False\n",
      "True\n"
     ]
    }
   ],
   "source": [
    "# == igualdade\n",
    "# > maior que\n",
    "# < menor que\n",
    "# != diferente\n",
    "# >= maior ou igual\n",
    "# <= menor ou igual\n",
    "\n",
    "\n",
    "#True ou False\n",
    "n1 = 10\n",
    "n2 = 20\n",
    "\n",
    "print(n1 > n2)\n",
    "print(n1 < n2)\n",
    "print(n1 == n2)\n",
    "print(n1 >= n2)\n",
    "print(n1 <= n2)"
   ]
  },
  {
   "cell_type": "code",
   "execution_count": 13,
   "metadata": {},
   "outputs": [
    {
     "name": "stdout",
     "output_type": "stream",
     "text": [
      "False\n"
     ]
    }
   ],
   "source": [
    "media_aluno = 6.5\n",
    "media_aprovado = 7\n",
    "resultado = media_aluno >= media_aprovado\n",
    "print(resultado)"
   ]
  },
  {
   "cell_type": "code",
   "execution_count": 14,
   "metadata": {},
   "outputs": [
    {
     "name": "stdout",
     "output_type": "stream",
     "text": [
      "30\n",
      "-10\n",
      "200\n",
      "2.0\n",
      "2\n",
      "0\n"
     ]
    }
   ],
   "source": [
    "# aritméticos\n",
    "v1 = 10\n",
    "v2 = 20\n",
    "print(v1 + v2)\n",
    "print(v1 - v2)\n",
    "print(v1 * v2)\n",
    "print(v2 / v1)\n",
    "print(v2 // v1)\n",
    "print(v2 % v1)\n"
   ]
  },
  {
   "cell_type": "code",
   "execution_count": 15,
   "metadata": {},
   "outputs": [
    {
     "name": "stdout",
     "output_type": "stream",
     "text": [
      "False\n"
     ]
    },
    {
     "data": {
      "text/plain": [
       "True"
      ]
     },
     "execution_count": 15,
     "metadata": {},
     "output_type": "execute_result"
    }
   ],
   "source": [
    "# not -> não (negação)\n",
    "# and -> e (conjunção)\n",
    "# or -> ou (disjunção)\n",
    "\n",
    "\n",
    "aprovado = True\n",
    "nao_aprovado = not aprovado\n",
    "print(nao_aprovado)\n",
    "\n",
    "not False"
   ]
  },
  {
   "cell_type": "code",
   "execution_count": 29,
   "metadata": {},
   "outputs": [
    {
     "name": "stdout",
     "output_type": "stream",
     "text": [
      "Marcos\n",
      "Ultima letra: s\n",
      "Substring: Mar\n",
      "Quantidade de caracteres: 6\n"
     ]
    }
   ],
   "source": [
    "# Strings = cadeia de caracteres\n",
    "nome = \"Marcos\"\n",
    "print(nome)\n",
    "type(nome)\n",
    "print(\"Ultima letra: \" + nome[-1])\n",
    "print(\"Substring: \" +str(nome[0:3]))\n",
    "print('Quantidade de caracteres: '+ str(len(nome)))\n"
   ]
  },
  {
   "cell_type": "code",
   "execution_count": 35,
   "metadata": {},
   "outputs": [
    {
     "name": "stdout",
     "output_type": "stream",
     "text": [
      "AAAAAAAAAA\n",
      "João tem 19 anos e sua namorada se chama Maria\n",
      "73.121\n"
     ]
    }
   ],
   "source": [
    "# Adição de strings\n",
    "letra = 'A'\n",
    "print(10 * letra)\n",
    "\n",
    "# Marcador de posição\n",
    "namorada = 'Maria'\n",
    "idade = 19\n",
    "print('João tem %d anos e sua namorada se chama %s' % (idade, namorada))\n",
    "\n",
    "# media\n",
    "media = 73.121212\n",
    "print('%.3f' % media)\n"
   ]
  },
  {
   "cell_type": "code",
   "execution_count": 36,
   "metadata": {},
   "outputs": [
    {
     "name": "stdout",
     "output_type": "stream",
     "text": [
      "4478542384\n",
      "4478542384\n"
     ]
    }
   ],
   "source": [
    "# Referencias\n",
    "nome = 'Humberto'\n",
    "nome2 = nome\n",
    "\n",
    "# como se pegasse o endereço em memória\n",
    "print(id(nome))\n",
    "print(id(nome2))"
   ]
  },
  {
   "cell_type": "code",
   "execution_count": 40,
   "metadata": {},
   "outputs": [
    {
     "name": "stdout",
     "output_type": "stream",
     "text": [
      "Digite sua idade: 10\n",
      "Digite o número pi:3.1423\n",
      "13.1423\n"
     ]
    }
   ],
   "source": [
    "# entrada de dados\n",
    "idade = int(input('Digite sua idade: '))\n",
    "idade = float(input('Digite o número pi:'))\n",
    "print(idade + 10)"
   ]
  },
  {
   "cell_type": "code",
   "execution_count": 46,
   "metadata": {},
   "outputs": [
    {
     "name": "stdout",
     "output_type": "stream",
     "text": [
      "idade inválida\n"
     ]
    }
   ],
   "source": [
    "# Estrutura de decisão\n",
    "idade = -23\n",
    "if idade >= 18:\n",
    "    if idade >= 60:\n",
    "        print(\"idoso\")\n",
    "    else:\n",
    "        print(\"Adulto\")\n",
    "\n",
    "elif idade < 0:\n",
    "    print(\"idade inválida\")\n",
    "else:\n",
    "    print(\"Menor da idade\")\n",
    "    \n",
    "    "
   ]
  },
  {
   "cell_type": "code",
   "execution_count": 49,
   "metadata": {},
   "outputs": [
    {
     "name": "stdout",
     "output_type": "stream",
     "text": [
      "0 2 4 6 8 10 12 14 16 18 20 22 24 26 28 30 32 34 36 38 40 42 44 46 48 50 52 54 56 58 60 62 64 66 68 70 72 74 76 78 80 82 84 86 88 90 92 94 96 98 100 "
     ]
    }
   ],
   "source": [
    "# estrutura de repetição\n",
    "cont = 0\n",
    "while cont <= 100:\n",
    "    if cont % 2 == 0:\n",
    "        print(cont, end=' ')        \n",
    "\n",
    "    cont += 1"
   ]
  },
  {
   "cell_type": "code",
   "execution_count": 50,
   "metadata": {},
   "outputs": [
    {
     "name": "stdout",
     "output_type": "stream",
     "text": [
      "1 x 1 = 1\n",
      "1 x 2 = 2\n",
      "1 x 3 = 3\n",
      "1 x 4 = 4\n",
      "1 x 5 = 5\n",
      "1 x 6 = 6\n",
      "1 x 7 = 7\n",
      "1 x 8 = 8\n",
      "1 x 9 = 9\n",
      "1 x 10 = 10\n",
      "2 x 1 = 2\n",
      "2 x 2 = 4\n",
      "2 x 3 = 6\n",
      "2 x 4 = 8\n",
      "2 x 5 = 10\n",
      "2 x 6 = 12\n",
      "2 x 7 = 14\n",
      "2 x 8 = 16\n",
      "2 x 9 = 18\n",
      "2 x 10 = 20\n",
      "3 x 1 = 3\n",
      "3 x 2 = 6\n",
      "3 x 3 = 9\n",
      "3 x 4 = 12\n",
      "3 x 5 = 15\n",
      "3 x 6 = 18\n",
      "3 x 7 = 21\n",
      "3 x 8 = 24\n",
      "3 x 9 = 27\n",
      "3 x 10 = 30\n",
      "4 x 1 = 4\n",
      "4 x 2 = 8\n",
      "4 x 3 = 12\n",
      "4 x 4 = 16\n",
      "4 x 5 = 20\n",
      "4 x 6 = 24\n",
      "4 x 7 = 28\n",
      "4 x 8 = 32\n",
      "4 x 9 = 36\n",
      "4 x 10 = 40\n",
      "5 x 1 = 5\n",
      "5 x 2 = 10\n",
      "5 x 3 = 15\n",
      "5 x 4 = 20\n",
      "5 x 5 = 25\n",
      "5 x 6 = 30\n",
      "5 x 7 = 35\n",
      "5 x 8 = 40\n",
      "5 x 9 = 45\n",
      "5 x 10 = 50\n"
     ]
    }
   ],
   "source": [
    "# estrutura de repetição p2\n",
    "tabuada = 1\n",
    "while tabuada <= 5:\n",
    "    numero = 1\n",
    "    while numero <= 10:\n",
    "        print(\"%d x %d = %d\" % (tabuada, numero, tabuada * numero))\n",
    "        numero += 1\n",
    "        \n",
    "    tabuada += 1"
   ]
  },
  {
   "cell_type": "code",
   "execution_count": 61,
   "metadata": {},
   "outputs": [
    {
     "name": "stdout",
     "output_type": "stream",
     "text": [
      "4\n",
      "[2, 'marcos', 5.4, ['joao', 'maria']]\n",
      "['joao', 'maria']\n",
      "joao\n",
      "maria\n",
      "[2, 'JEFFS', 5.4, ['joao', 'maria']]\n"
     ]
    }
   ],
   "source": [
    "# Listas\n",
    "lista = [2,'marcos',5.4, ['joao', 'maria']]\n",
    "\n",
    "print(len(lista))\n",
    "print(lista)\n",
    "print(lista[-1])\n",
    "print(lista[-1][0])\n",
    "print(lista[-1][-1])\n",
    "\n",
    "lista[1] = \"JEFFS\"\n",
    "print(lista)"
   ]
  },
  {
   "cell_type": "code",
   "execution_count": 63,
   "metadata": {},
   "outputs": [
    {
     "name": "stdout",
     "output_type": "stream",
     "text": [
      "1 2 3 4 5 [1, 2, 3]\n"
     ]
    }
   ],
   "source": [
    "## percorrendo listas\n",
    "lista = [1,2,3,4,5]\n",
    "cont = 0\n",
    "\n",
    "while cont < len(lista):\n",
    "    print(lista[cont], end=' ')\n",
    "    cont += 1\n",
    "    \n"
   ]
  },
  {
   "cell_type": "code",
   "execution_count": 66,
   "metadata": {},
   "outputs": [
    {
     "name": "stdout",
     "output_type": "stream",
     "text": [
      "[1, 2, 3]\n",
      "[3, 4, 5]\n"
     ]
    }
   ],
   "source": [
    "lista = [1,2,3,4,5]\n",
    "\n",
    "print(lista[0:3])\n",
    "print(lista[-3:])"
   ]
  },
  {
   "cell_type": "code",
   "execution_count": 70,
   "metadata": {},
   "outputs": [
    {
     "name": "stdout",
     "output_type": "stream",
     "text": [
      "[10, 2, 3, 4, 5]\n",
      "[10, 2, 3, 4, 5, 'marcos']\n",
      "[2, 3, 4, 5, 'marcos']\n",
      "[2, 3, 4, 5]\n"
     ]
    }
   ],
   "source": [
    "lista1 = [1,2,3,4,5]\n",
    "lista2 = lista1\n",
    "lista2[0] = 10\n",
    "print(lista1)\n",
    "\n",
    "# adicionar\n",
    "lista1.append('marcos')\n",
    "print(lista1)\n",
    "\n",
    "# remove pelo indice\n",
    "lista1.pop(0)\n",
    "print(lista1)\n",
    "\n",
    "# lista \n",
    "lista1.remove('marcos')\n",
    "print(lista1)"
   ]
  },
  {
   "cell_type": "code",
   "execution_count": 75,
   "metadata": {},
   "outputs": [
    {
     "name": "stdout",
     "output_type": "stream",
     "text": [
      "1\n",
      "2\n",
      "3\n",
      "4\n",
      "5\n",
      "1 3 5 7 9 p y t h o n "
     ]
    }
   ],
   "source": [
    "# estrura de repetição for\n",
    "lista = [1,2,3,4,5]\n",
    "for e in lista:\n",
    "    print(e)\n",
    "\n",
    "# start, end , steps ( de dois em dois)\n",
    "for i in range(1, 10, 2):\n",
    "    print(i, end=' ')\n",
    "   \n",
    "nome = 'python'\n",
    "for letra in nome:\n",
    "    print(letra, end=' ')"
   ]
  },
  {
   "cell_type": "code",
   "execution_count": 83,
   "metadata": {},
   "outputs": [
    {
     "name": "stdout",
     "output_type": "stream",
     "text": [
      "(1, 1, 1, 'aaa', 5, 3.14)\n",
      "(1, 1)\n",
      "3\n",
      "5\n"
     ]
    }
   ],
   "source": [
    "# Tuplas - é imutável, seu estado é feito na inicialização, depois não pode ser alterado\n",
    "\n",
    "tupla = (1,1,1,'aaa',5,3.14)\n",
    "print(tupla)\n",
    "print(tupla[1:3])\n",
    "\n",
    "# Frequencia do número 1 na tupla\n",
    "print(tupla.count(1))\n",
    "\n",
    "# index de um elemento na tupla\n",
    "print(tupla.index(3.14))"
   ]
  },
  {
   "cell_type": "code",
   "execution_count": 89,
   "metadata": {},
   "outputs": [
    {
     "name": "stdout",
     "output_type": "stream",
     "text": [
      "{10, 12, 14, 16, 18, 20}\n",
      "{1, 2, 3, 4, 5, 6, 7}\n",
      "{3, 4}\n",
      "{1, 2}\n",
      "{24, 1, 2, 4}\n"
     ]
    }
   ],
   "source": [
    "# conjuntos Set\n",
    "s = set()\n",
    "s.add(10)\n",
    "s.add(12)\n",
    "s.add(14)\n",
    "s.add(16)\n",
    "s.add(18)\n",
    "s.add(20)\n",
    "s.add(10)\n",
    "print(s)\n",
    "\n",
    "# união o que tem no s1 se une ao que tem no s2 sem se repetir\n",
    "s1 = {1,2,3,4}\n",
    "s2 = {3,4,5,6,7}\n",
    "uniao = s1.union(s2)\n",
    "print(uniao)\n",
    "\n",
    "# o que tem no s1 e no s2\n",
    "intersec = s1.intersection(s2)\n",
    "print(intersec)\n",
    "\n",
    "# elementos que estão em s1 e que não estão em s2\n",
    "diff = s1.difference(s2)\n",
    "print(diff)\n",
    "\n",
    "lista = [1,2,2,2,2,2,2,24,4]\n",
    "semRep = set(lista)\n",
    "print(semRep)"
   ]
  },
  {
   "cell_type": "code",
   "execution_count": 94,
   "metadata": {},
   "outputs": [
    {
     "name": "stdout",
     "output_type": "stream",
     "text": [
      "{'marcos': 28, 'maria': 20, 'pedro': 18}\n",
      "28\n",
      "25\n",
      "{'marcos': 25, 'maria': 20, 'pedro': 18, 'felipe': 11}\n",
      "25 20 18 11 dict_items([('marcos', 25), ('maria', 20), ('pedro', 18), ('felipe', 11)])\n",
      "dict_keys(['marcos', 'maria', 'pedro', 'felipe'])\n",
      "dict_values([25, 20, 18, 11])\n",
      "True\n",
      "False\n"
     ]
    }
   ],
   "source": [
    "# dicionários\n",
    "\n",
    "d = {'marcos': 28, 'maria': 20, 'pedro': 18}\n",
    "print(d)\n",
    "print(d['marcos'])\n",
    "d['marcos'] = 25 # consigo alterar o valor\n",
    "print(d['marcos'])\n",
    "\n",
    "# consigo adicionar uma chave e valor\n",
    "d['felipe'] = 11\n",
    "\n",
    "print(d)\n",
    "\n",
    "for k in d:\n",
    "    print(d[k], end=' ')\n",
    "\n",
    "print(d.items())\n",
    "print(d.keys())\n",
    "print(d.values())\n",
    "print('maria' in d)\n",
    "print('jeffs' in d)"
   ]
  },
  {
   "cell_type": "code",
   "execution_count": 101,
   "metadata": {},
   "outputs": [
    {
     "name": "stdout",
     "output_type": "stream",
     "text": [
      "3\n",
      "15\n",
      "3\n",
      "hello world\n",
      "desconhecido\n",
      "aaa\n"
     ]
    }
   ],
   "source": [
    "# funções\n",
    "def somar(n1, n2):\n",
    "    return n1 + n2\n",
    "\n",
    "print(somar(1,2))\n",
    "\n",
    "def foo(*args):\n",
    "    return sum(*args)\n",
    "\n",
    "print(foo([1,2,3,4,5]))\n",
    "print(foo([1,2]))\n",
    "\n",
    "imprimir = print\n",
    "imprimir(\"hello world\")\n",
    "\n",
    "# funcoes \n",
    "# default parameters\n",
    "def imprimir_nome(nome = \"desconhecido\"):\n",
    "    print(nome)\n",
    "    \n",
    "    \n",
    "imprimir_nome()\n",
    "imprimir_nome(\"aaa\")"
   ]
  },
  {
   "cell_type": "code",
   "execution_count": 102,
   "metadata": {},
   "outputs": [
    {
     "name": "stdout",
     "output_type": "stream",
     "text": [
      "60\n"
     ]
    }
   ],
   "source": [
    "def somar(x, y, z, f):\n",
    "    return x + f(y, z)\n",
    "\n",
    "def f(n1, n2):\n",
    "    return n1 + n2\n",
    "\n",
    "print(somar(10, 20, 30, f))"
   ]
  },
  {
   "cell_type": "code",
   "execution_count": 103,
   "metadata": {},
   "outputs": [
    {
     "name": "stdout",
     "output_type": "stream",
     "text": [
      "8\n",
      "20\n"
     ]
    }
   ],
   "source": [
    "# Lambda\n",
    "\n",
    "a = lambda x: x*2\n",
    "print(a(4))\n",
    "print(a(10))"
   ]
  },
  {
   "cell_type": "code",
   "execution_count": null,
   "metadata": {},
   "outputs": [],
   "source": [
    "# criando modulos\n"
   ]
  }
 ],
 "metadata": {
  "kernelspec": {
   "display_name": "Python 3",
   "language": "python",
   "name": "python3"
  },
  "language_info": {
   "codemirror_mode": {
    "name": "ipython",
    "version": 3
   },
   "file_extension": ".py",
   "mimetype": "text/x-python",
   "name": "python",
   "nbconvert_exporter": "python",
   "pygments_lexer": "ipython3",
   "version": "3.6.3"
  }
 },
 "nbformat": 4,
 "nbformat_minor": 2
}
