{
 "cells": [
  {
   "cell_type": "code",
   "execution_count": 1,
   "metadata": {},
   "outputs": [],
   "source": [
    "from sklearn import datasets"
   ]
  },
  {
   "cell_type": "code",
   "execution_count": 4,
   "metadata": {},
   "outputs": [],
   "source": [
    "# 442 exemplos\n",
    "diabetes = datasets.load_diabetes()\n",
    "#diabetes.data\n",
    "#diabetes.target"
   ]
  },
  {
   "cell_type": "code",
   "execution_count": 5,
   "metadata": {},
   "outputs": [
    {
     "data": {
      "text/plain": [
       "442"
      ]
     },
     "execution_count": 5,
     "metadata": {},
     "output_type": "execute_result"
    }
   ],
   "source": [
    "len(diabetes.data)\n",
    "len(diabetes.target)"
   ]
  },
  {
   "cell_type": "code",
   "execution_count": 6,
   "metadata": {},
   "outputs": [],
   "source": [
    "# Separa os dados originais em entrada e saída\n",
    "entrada, saida = diabetes.data, diabetes.target"
   ]
  },
  {
   "cell_type": "code",
   "execution_count": 9,
   "metadata": {},
   "outputs": [
    {
     "name": "stdout",
     "output_type": "stream",
     "text": [
      "QTD ELEMENTOS TREINO:  309\n",
      "QTD ELEMENTOS TESTE:  133\n"
     ]
    }
   ],
   "source": [
    "from sklearn.model_selection import train_test_split\n",
    "entrada_treino, entrada_teste, saida_treino, saida_teste = train_test_split(entrada, saida, test_size=0.3, random_state=42)\n",
    "print(\"QTD ELEMENTOS TREINO: \", len(entrada_treino))\n",
    "print(\"QTD ELEMENTOS TESTE: \", len(entrada_teste))"
   ]
  },
  {
   "cell_type": "code",
   "execution_count": 17,
   "metadata": {},
   "outputs": [
    {
     "name": "stdout",
     "output_type": "stream",
     "text": [
      "Saída esperada 230.000000\n",
      "Saída predita 226.941176\n"
     ]
    }
   ],
   "source": [
    "# Importa a biblioteca KNN com regressão\n",
    "from sklearn.neighbors import KNeighborsRegressor\n",
    "\n",
    "# Classe de KNN inicializada contando com 7 vizinhos\n",
    "#   e utilizando a distancia de euclides, de manhattan seria 3\n",
    "knn = KNeighborsRegressor(n_neighbors=17, p=2)\n",
    "\n",
    "# Treina o algoritmo após sua separação\n",
    "knn.fit(entrada_treino, saida_treino)\n",
    "\n",
    "# Tenta prever as saídas das entradas de testes que foram separadas\n",
    "saidasPreditas = knn.predict(entrada_teste)\n",
    "\n",
    "print('Saída esperada %f' % saida_teste[3])\n",
    "print('Saída predita %f' % saidasPreditas[3])\n"
   ]
  },
  {
   "cell_type": "code",
   "execution_count": 18,
   "metadata": {},
   "outputs": [
    {
     "data": {
      "text/plain": [
       "2978.1142128678098"
      ]
     },
     "execution_count": 18,
     "metadata": {},
     "output_type": "execute_result"
    }
   ],
   "source": [
    "# Calcular a média de erros quadráticos\n",
    "#    boa forma de avaliar se o algoritmo é bom\n",
    "#    QUANTO MENOR O ERRO QUADRÁTICO MELHOR O ALGORITMO É\n",
    "from sklearn.metrics import mean_squared_error\n",
    "mean_squared_error(saida_teste, saidasPreditas)\n",
    "\n"
   ]
  },
  {
   "cell_type": "code",
   "execution_count": null,
   "metadata": {},
   "outputs": [],
   "source": []
  },
  {
   "cell_type": "code",
   "execution_count": null,
   "metadata": {},
   "outputs": [],
   "source": []
  },
  {
   "cell_type": "code",
   "execution_count": null,
   "metadata": {},
   "outputs": [],
   "source": []
  },
  {
   "cell_type": "code",
   "execution_count": null,
   "metadata": {},
   "outputs": [],
   "source": []
  },
  {
   "cell_type": "code",
   "execution_count": null,
   "metadata": {},
   "outputs": [],
   "source": []
  },
  {
   "cell_type": "code",
   "execution_count": null,
   "metadata": {},
   "outputs": [],
   "source": []
  }
 ],
 "metadata": {
  "kernelspec": {
   "display_name": "Python 3",
   "language": "python",
   "name": "python3"
  },
  "language_info": {
   "codemirror_mode": {
    "name": "ipython",
    "version": 3
   },
   "file_extension": ".py",
   "mimetype": "text/x-python",
   "name": "python",
   "nbconvert_exporter": "python",
   "pygments_lexer": "ipython3",
   "version": "3.6.3"
  }
 },
 "nbformat": 4,
 "nbformat_minor": 2
}
