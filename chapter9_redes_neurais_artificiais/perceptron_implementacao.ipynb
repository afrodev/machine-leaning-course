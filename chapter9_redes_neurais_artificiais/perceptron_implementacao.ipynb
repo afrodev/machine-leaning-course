{
 "cells": [
  {
   "cell_type": "code",
   "execution_count": 6,
   "metadata": {},
   "outputs": [],
   "source": [
    "#implementação Perceptron\n",
    "import random"
   ]
  },
  {
   "cell_type": "code",
   "execution_count": 40,
   "metadata": {},
   "outputs": [],
   "source": [
    "class Perceptron:\n",
    "    def __init__(self, amostras, saidas, taxa_aprendizado=0.1, epocas=1000, limiar=-1):\n",
    "        self.amostras = amostras # entradas de dados x1,x2,x3\n",
    "        self.saidas = saidas # saida de dados\n",
    "        self.taxa_aprendizado = taxa_aprendizado # quanto demora para o algoritmo aprender, tem estudos para melhorar a performance assim o o K, do knn\n",
    "        self.epocas = epocas # quantidade de testes que serão feitos\n",
    "        self.limiar = limiar # u? \n",
    "        self.n_amostras = len(amostras) # numero de entradas\n",
    "        self.n_atributos = len(amostras[0]) # numero de atributos de cada entrada de dados\n",
    "        self.pesos = [] # pesos w1,w2,w3 que serão colocados pela primeira vez aleatoriamente\n",
    "\n",
    "    def treinar(self):\n",
    "        for amostra in self.amostras:\n",
    "            # adiciona no primeiro indice da amostra\n",
    "            amostra.insert(0, -1)\n",
    "        \n",
    "        for i in range(self.n_atributos): \n",
    "            self.pesos.append(random.random())\n",
    "\n",
    "        self.pesos.insert(0, self.limiar)\n",
    "        n_epocas = 0\n",
    "        \n",
    "        while True:\n",
    "            erro = False # Erro inicialmente inexistente\n",
    "            \n",
    "            for i in range(self.n_amostras):\n",
    "                u = 0\n",
    "                for j in range(self.n_atributos + 1):\n",
    "                    # u é a função agregadora somando os resultados dos pesos * os atributos\n",
    "                    u += self.pesos[j] * self.amostras[i][j]\n",
    "                \n",
    "                y = self.sinal(u) # obtém a saída da rede\n",
    "            \n",
    "                # verifica se a saída da rede é diferente da saída desejada\n",
    "                if y != self.saidas[i]:\n",
    "                    # calculo o erro\n",
    "                    erro_aux = self.saidas[i] - y\n",
    "                    \n",
    "                    # faz o ajuste dos pesos para cada elemento da amostra\n",
    "                    for j in range(self.n_atributos + 1):\n",
    "                        self.pesos[j] = self.pesos[j] + self.taxa_aprendizado * erro_aux * self.amostras[i][j]\n",
    "                    \n",
    "                    erro = True\n",
    "\n",
    "            n_epocas += 1\n",
    "            # Critério de parada\n",
    "            if not erro or n_epocas > self.epocas:\n",
    "                break\n",
    "\n",
    "    def degrau(self, u):\n",
    "        if u >= 0:\n",
    "            return 1\n",
    "        return 0\n",
    "    \n",
    "    def teste(self, amostra):\n",
    "        amostra.insert(0, -1)\n",
    "        \n",
    "        # vetor de pesos ajustado, ajusta no treinamento e usa no teste\n",
    "        u = 0\n",
    "        for i in range(self.n_atributos + 1):\n",
    "            u += self.pesos[i] * amostra[i]\n",
    "\n",
    "        # y é o potencial de ativação\n",
    "        y = self.sinal(u)\n",
    "        print('Classe: %d' % y)\n",
    "            \n",
    "    def sinal(self, u):\n",
    "        if u >= 0:\n",
    "            return 1\n",
    "        return -1\n",
    "        "
   ]
  },
  {
   "cell_type": "code",
   "execution_count": 37,
   "metadata": {},
   "outputs": [
    {
     "name": "stdout",
     "output_type": "stream",
     "text": [
      "Classe: 1\n"
     ]
    }
   ],
   "source": [
    "# exemplo 1 funcao OR\n",
    "entradas = [[0,0], [0,1], [1,0], [1,1]] # Função OR\n",
    "saidas = [0, 1, 1, 1]\n",
    "\n",
    "rede = Perceptron(entradas, saidas, taxa_aprendizado=0.1)\n",
    "rede.treinar()\n",
    "rede.teste([1,1])"
   ]
  },
  {
   "cell_type": "code",
   "execution_count": 45,
   "metadata": {},
   "outputs": [
    {
     "name": "stdout",
     "output_type": "stream",
     "text": [
      "Classe: 1\n"
     ]
    }
   ],
   "source": [
    "# Exemplo 2\n",
    "entradas = [[0.1, 0.4, 0.7],\n",
    "            [0.3, 0.7, 0.2],\n",
    "            [0.6, 0.9, 0.8],\n",
    "            [0.5, 0.7, 0.1]\n",
    "           ]\n",
    "saidas = [1, -1, -1, 1]\n",
    "\n",
    "rede = Perceptron(entradas, saidas, taxa_aprendizado=0.1)\n",
    "rede.treinar()\n",
    "rede.teste([0.5, 0.7, 0.1])"
   ]
  },
  {
   "cell_type": "code",
   "execution_count": null,
   "metadata": {},
   "outputs": [],
   "source": []
  },
  {
   "cell_type": "code",
   "execution_count": null,
   "metadata": {},
   "outputs": [],
   "source": []
  }
 ],
 "metadata": {
  "kernelspec": {
   "display_name": "Python 3",
   "language": "python",
   "name": "python3"
  },
  "language_info": {
   "codemirror_mode": {
    "name": "ipython",
    "version": 3
   },
   "file_extension": ".py",
   "mimetype": "text/x-python",
   "name": "python",
   "nbconvert_exporter": "python",
   "pygments_lexer": "ipython3",
   "version": "3.6.3"
  }
 },
 "nbformat": 4,
 "nbformat_minor": 2
}
