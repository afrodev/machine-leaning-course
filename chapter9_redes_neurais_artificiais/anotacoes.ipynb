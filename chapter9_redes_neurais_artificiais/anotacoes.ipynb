{
 "cells": [
  {
   "cell_type": "code",
   "execution_count": 1,
   "metadata": {},
   "outputs": [],
   "source": [
    "# Redes Neurais artificiais RNAs\n",
    "# Modelos  inspirados no sistema nervoso central\n",
    "# reconhecimento de voz, reconhecimento de escrita manual\n",
    "# abstrações da biologia trazida para a computação\n",
    "\n",
    "# Sinais de entrada\n",
    "# x1, x2, x3, xn\n",
    "\n",
    "# Ponderados por:\n",
    "# w1,w2,w3 \n",
    "# Cada entrada tem sua ponderação\n",
    "\n",
    "# Neurônios\n",
    "# Depois é mandado para o neuronio\n",
    "### Tem a função agregadora que multiplica todos as entradas com a poderação\n",
    "### PAra achar o potencial de ativação\n",
    "\n"
   ]
  },
  {
   "cell_type": "code",
   "execution_count": 2,
   "metadata": {},
   "outputs": [
    {
     "data": {
      "text/plain": [
       "'\\nFunções de ativação:\\n\\nFUNÇÃO DEGRAU\\n- Se o valor de u >= 0  ENTÃO 1\\n- Se for u < 0 ENTAO 0\\n\\nFUNÇÃO DEGRAU BIPOLAR/SINAL\\nu > 0 = 1\\nu = 0 = 0\\nu < 0 = -1\\n\\nou \\n\\nu >= 0 = 1\\nu < 0 = -1\\n\\nFUNCAO LOGISTICAS:\\nentre outras\\n'"
      ]
     },
     "execution_count": 2,
     "metadata": {},
     "output_type": "execute_result"
    }
   ],
   "source": [
    "'''\n",
    "Funções de ativação:\n",
    "\n",
    "FUNÇÃO DEGRAU\n",
    "- Se o valor de u >= 0  ENTÃO 1\n",
    "- Se for u < 0 ENTAO 0\n",
    "\n",
    "FUNÇÃO DEGRAU BIPOLAR/SINAL\n",
    "u > 0 = 1\n",
    "u = 0 = 0\n",
    "u < 0 = -1\n",
    "\n",
    "ou \n",
    "\n",
    "u >= 0 = 1\n",
    "u < 0 = -1\n",
    "\n",
    "FUNCAO LOGISTICAS:\n",
    "entre outras\n",
    "'''"
   ]
  },
  {
   "cell_type": "code",
   "execution_count": null,
   "metadata": {},
   "outputs": [],
   "source": [
    "'''\n",
    "PERCEPTRON\n",
    "É UMA RETA QUE DIVIDE A CLASSIFICAÇÀO\n",
    "\n",
    "MLP EVOLUCAO DA PERCEPTRON\n",
    "\n",
    "LIVRO: Redes neurais artificiais para engenharia e ciências aplicaadas\n",
    "\n",
    "'''\n",
    "\n"
   ]
  }
 ],
 "metadata": {
  "kernelspec": {
   "display_name": "Python 3",
   "language": "python",
   "name": "python3"
  },
  "language_info": {
   "codemirror_mode": {
    "name": "ipython",
    "version": 3
   },
   "file_extension": ".py",
   "mimetype": "text/x-python",
   "name": "python",
   "nbconvert_exporter": "python",
   "pygments_lexer": "ipython3",
   "version": "3.6.3"
  }
 },
 "nbformat": 4,
 "nbformat_minor": 2
}
