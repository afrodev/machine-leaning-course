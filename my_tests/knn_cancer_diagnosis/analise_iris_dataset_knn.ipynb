{
 "cells": [
  {
   "cell_type": "code",
   "execution_count": 110,
   "metadata": {},
   "outputs": [],
   "source": [
    "'''\n",
    "Íris Dataset\n",
    "Dataset: http://archive.ics.uci.edu/ml/datasets/Iris\n",
    "Descrição do Dataset: Reconhecimento de padrões de flores Íris\n",
    "by: Humberto Vieira\n",
    "\n",
    "Iris-setosa is 1\n",
    "Iris-versicolor is 2\n",
    "Iris-virginica is 3\n",
    "'''\n",
    "import numpy as np\n",
    "from sklearn.neighbors import KNeighborsClassifier"
   ]
  },
  {
   "cell_type": "code",
   "execution_count": 125,
   "metadata": {},
   "outputs": [],
   "source": [
    "irisAllData = []\n",
    "# Import csv file numpy\n",
    "with open('iris.data', 'r') as f:\n",
    "    for l in f.readlines():\n",
    "        atributes = l.replace('\\n', '').split(',')\n",
    "        sepalWidth = float(atributes[0])\n",
    "        sepalLength = float(atributes[1])\n",
    "        petalLength = float(atributes[2])\n",
    "        petalWidth = float(atributes[3])\n",
    "        classIris = int(atributes[4])\n",
    "        \n",
    "        irisAllData.append([sepalLength, sepalWidth, petalLength, petalWidth, classIris])"
   ]
  },
  {
   "cell_type": "code",
   "execution_count": 126,
   "metadata": {},
   "outputs": [
    {
     "name": "stdout",
     "output_type": "stream",
     "text": [
      "Total de flores: 150\n",
      "Total NUMERO DE SETOSA: 50\n",
      "Total NUMERO DE VERSICOLOR: 50\n",
      "Total NUMERO DE VIRGINICA: 50\n",
      "[150, 50, 50, 50]\n"
     ]
    }
   ],
   "source": [
    "# Dataset Info\n",
    "def infoDataset(amostras, verbose=True):\n",
    "    if verbose:\n",
    "        print(\"Total de flores: %d\" % len(amostras))\n",
    "\n",
    "    setosa, versicolor, virginica = 0,0,0\n",
    "    for amostra in amostras:\n",
    "        if amostra[-1] == 1:#SETOSA\n",
    "            setosa += 1\n",
    "        elif amostra[-1] == 2: #VERSICOLOR\n",
    "            versicolor += 1            \n",
    "        else: # Iris-virginica\n",
    "            virginica += 1\n",
    "    \n",
    "    if verbose:\n",
    "        print('Total NUMERO DE SETOSA: %d' % setosa)\n",
    "        print('Total NUMERO DE VERSICOLOR: %d' % versicolor)\n",
    "        print('Total NUMERO DE VIRGINICA: %d' % virginica)\n",
    "        \n",
    "    return [len(amostras), setosa, versicolor, virginica]\n",
    "\n",
    "print(infoDataset(irisAllData))"
   ]
  },
  {
   "cell_type": "code",
   "execution_count": 127,
   "metadata": {
    "scrolled": true
   },
   "outputs": [
    {
     "name": "stdout",
     "output_type": "stream",
     "text": [
      "150\n",
      "90\n"
     ]
    }
   ],
   "source": [
    "# Separe train data and test data\n",
    "p = 0.6 # train with 60% and test it with 40%\n",
    "print(len(irisAllData))\n",
    "\n",
    "trainLength = int(len(irisAllData) * p)\n",
    "print(trainLength)\n",
    "\n",
    "trainData = irisAllData[:trainLength]\n",
    "testData = irisAllData[trainLength:]"
   ]
  },
  {
   "cell_type": "code",
   "execution_count": 129,
   "metadata": {},
   "outputs": [],
   "source": [
    "_, setosap, versicolorp, virginicap = infoDataset(trainData, verbose=False)"
   ]
  },
  {
   "cell_type": "code",
   "execution_count": null,
   "metadata": {},
   "outputs": [],
   "source": [
    "treining, test = [], [] # rotulo == atributos\n",
    "max_setosa, max_versicolor, max_virginica = int(p* setosap), int(p * versicolorp), int(p * virginicap) # percentual do parametro 1 e 2\n",
    "total_setosa, total_versicolor, total_virginica = 0,0\n",
    "for amostra in amostras:\n",
    "    if (total_setosa + total_versicolor + total_virginica) < (max_rotulo1 + max_rotulo2):\n",
    "        treinamento.append(amostra)\n",
    "        if amostra[-1] == 1 and total_rotulo1 < max_rotulo1:\n",
    "            total_rotulo1 += 1\n",
    "        else:\n",
    "            total_rotulo2 += 1\n",
    "    else:\n",
    "        teste.append(amostra)"
   ]
  },
  {
   "cell_type": "code",
   "execution_count": 117,
   "metadata": {},
   "outputs": [],
   "source": [
    "import math\n",
    "def euclidian_distance(v1, v2):\n",
    "    dim, soma = len(v1), 0\n",
    "    for i in range(dim - 1): # pois não quero pegar a saída, pois é a classe da flor\n",
    "        soma += math.pow(v1[i] - v2[i], 2)\n",
    "    return math.sqrt(soma)"
   ]
  },
  {
   "cell_type": "code",
   "execution_count": 118,
   "metadata": {},
   "outputs": [],
   "source": [
    "# kNN\n",
    "# Pega os dados de treino e uma nova amostra\n",
    "def knn(trainData, newData, K):\n",
    "    distances, trainLength = {}, len(trainData)\n",
    "\n",
    "    # Faz a distancia euclidiana com todos eles\n",
    "    for idx in range(trainLength):\n",
    "        d = euclidian_distance(trainData, newData)\n",
    "        distances[idx] = d\n",
    "        \n",
    "    # get K neighbours\n",
    "    k_neighbours = sorted(distances, key=distances.get)[:K]\n",
    "    \n",
    "    # majority votation\n",
    "    num_setosa, num_versicolor, num_virginica = 0,0,0\n",
    "    \n",
    "    for index in k_neighbours:\n",
    "        if trainData[index][-1] == 1:\n",
    "            num_setosa += 1\n",
    "        elif trainData[index][-1] == 2:\n",
    "            num_versicolor += 1\n",
    "        elif trainData[index][-1] == 3:\n",
    "            num_virginica += 1\n",
    "\n",
    "        if num_setosa > num_versicolor and num_setosa > num_virginica:\n",
    "            return 1\n",
    "        elif num_versicolor > num_setosa and num_versicolor > num_virginica:\n",
    "            return 2\n",
    "        else:\n",
    "            return 3\n",
    "\n"
   ]
  },
  {
   "cell_type": "code",
   "execution_count": 120,
   "metadata": {},
   "outputs": [
    {
     "name": "stdout",
     "output_type": "stream",
     "text": [
      "CASOS NOVOS:  [2.6, 5.5, 4.4, 1.2, 2]\n"
     ]
    },
    {
     "ename": "TypeError",
     "evalue": "unsupported operand type(s) for -: 'list' and 'float'",
     "output_type": "error",
     "traceback": [
      "\u001b[0;31m---------------------------------------------------------------------------\u001b[0m",
      "\u001b[0;31mTypeError\u001b[0m                                 Traceback (most recent call last)",
      "\u001b[0;32m<ipython-input-120-e7dd6177f2a0>\u001b[0m in \u001b[0;36m<module>\u001b[0;34m()\u001b[0m\n\u001b[1;32m      1\u001b[0m \u001b[0mprint\u001b[0m\u001b[0;34m(\u001b[0m\u001b[0;34m\"CASOS NOVOS: \"\u001b[0m\u001b[0;34m,\u001b[0m \u001b[0mtestData\u001b[0m\u001b[0;34m[\u001b[0m\u001b[0;36m0\u001b[0m\u001b[0;34m]\u001b[0m\u001b[0;34m)\u001b[0m\u001b[0;34m\u001b[0m\u001b[0m\n\u001b[0;32m----> 2\u001b[0;31m \u001b[0mprint\u001b[0m\u001b[0;34m(\u001b[0m\u001b[0;34m\"PREVISAO DO CASO NOVO\"\u001b[0m\u001b[0;34m,\u001b[0m \u001b[0mknn\u001b[0m\u001b[0;34m(\u001b[0m\u001b[0mtrainData\u001b[0m\u001b[0;34m,\u001b[0m \u001b[0mtestData\u001b[0m\u001b[0;34m[\u001b[0m\u001b[0;36m0\u001b[0m\u001b[0;34m]\u001b[0m\u001b[0;34m,\u001b[0m \u001b[0mK\u001b[0m\u001b[0;34m=\u001b[0m\u001b[0;36m13\u001b[0m\u001b[0;34m)\u001b[0m\u001b[0;34m)\u001b[0m\u001b[0;34m\u001b[0m\u001b[0m\n\u001b[0m",
      "\u001b[0;32m<ipython-input-118-619ae17eea6e>\u001b[0m in \u001b[0;36mknn\u001b[0;34m(trainData, newData, K)\u001b[0m\n\u001b[1;32m      6\u001b[0m     \u001b[0;31m# Faz a distancia euclidiana com todos eles\u001b[0m\u001b[0;34m\u001b[0m\u001b[0;34m\u001b[0m\u001b[0m\n\u001b[1;32m      7\u001b[0m     \u001b[0;32mfor\u001b[0m \u001b[0midx\u001b[0m \u001b[0;32min\u001b[0m \u001b[0mrange\u001b[0m\u001b[0;34m(\u001b[0m\u001b[0mtrainLength\u001b[0m\u001b[0;34m)\u001b[0m\u001b[0;34m:\u001b[0m\u001b[0;34m\u001b[0m\u001b[0m\n\u001b[0;32m----> 8\u001b[0;31m         \u001b[0md\u001b[0m \u001b[0;34m=\u001b[0m \u001b[0meuclidian_distance\u001b[0m\u001b[0;34m(\u001b[0m\u001b[0mtrainData\u001b[0m\u001b[0;34m,\u001b[0m \u001b[0mnewData\u001b[0m\u001b[0;34m)\u001b[0m\u001b[0;34m\u001b[0m\u001b[0m\n\u001b[0m\u001b[1;32m      9\u001b[0m         \u001b[0mdistances\u001b[0m\u001b[0;34m[\u001b[0m\u001b[0midx\u001b[0m\u001b[0;34m]\u001b[0m \u001b[0;34m=\u001b[0m \u001b[0md\u001b[0m\u001b[0;34m\u001b[0m\u001b[0m\n\u001b[1;32m     10\u001b[0m \u001b[0;34m\u001b[0m\u001b[0m\n",
      "\u001b[0;32m<ipython-input-117-5ded28f400bd>\u001b[0m in \u001b[0;36meuclidian_distance\u001b[0;34m(v1, v2)\u001b[0m\n\u001b[1;32m      3\u001b[0m     \u001b[0mdim\u001b[0m\u001b[0;34m,\u001b[0m \u001b[0msoma\u001b[0m \u001b[0;34m=\u001b[0m \u001b[0mlen\u001b[0m\u001b[0;34m(\u001b[0m\u001b[0mv1\u001b[0m\u001b[0;34m)\u001b[0m\u001b[0;34m,\u001b[0m \u001b[0;36m0\u001b[0m\u001b[0;34m\u001b[0m\u001b[0m\n\u001b[1;32m      4\u001b[0m     \u001b[0;32mfor\u001b[0m \u001b[0mi\u001b[0m \u001b[0;32min\u001b[0m \u001b[0mrange\u001b[0m\u001b[0;34m(\u001b[0m\u001b[0mdim\u001b[0m \u001b[0;34m-\u001b[0m \u001b[0;36m1\u001b[0m\u001b[0;34m)\u001b[0m\u001b[0;34m:\u001b[0m \u001b[0;31m# pois não quero pegar a saída, pois é a classe da flor\u001b[0m\u001b[0;34m\u001b[0m\u001b[0m\n\u001b[0;32m----> 5\u001b[0;31m         \u001b[0mprint\u001b[0m\u001b[0;34m(\u001b[0m\u001b[0mv1\u001b[0m\u001b[0;34m[\u001b[0m\u001b[0mi\u001b[0m\u001b[0;34m]\u001b[0m \u001b[0;34m-\u001b[0m \u001b[0mv2\u001b[0m\u001b[0;34m[\u001b[0m\u001b[0mi\u001b[0m\u001b[0;34m]\u001b[0m\u001b[0;34m)\u001b[0m\u001b[0;34m\u001b[0m\u001b[0m\n\u001b[0m\u001b[1;32m      6\u001b[0m         \u001b[0msoma\u001b[0m \u001b[0;34m+=\u001b[0m \u001b[0mmath\u001b[0m\u001b[0;34m.\u001b[0m\u001b[0mpow\u001b[0m\u001b[0;34m(\u001b[0m\u001b[0mv1\u001b[0m\u001b[0;34m[\u001b[0m\u001b[0mi\u001b[0m\u001b[0;34m]\u001b[0m \u001b[0;34m-\u001b[0m \u001b[0mv2\u001b[0m\u001b[0;34m[\u001b[0m\u001b[0mi\u001b[0m\u001b[0;34m]\u001b[0m\u001b[0;34m,\u001b[0m \u001b[0;36m2\u001b[0m\u001b[0;34m)\u001b[0m\u001b[0;34m\u001b[0m\u001b[0m\n\u001b[1;32m      7\u001b[0m     \u001b[0;32mreturn\u001b[0m \u001b[0mmath\u001b[0m\u001b[0;34m.\u001b[0m\u001b[0msqrt\u001b[0m\u001b[0;34m(\u001b[0m\u001b[0msoma\u001b[0m\u001b[0;34m)\u001b[0m\u001b[0;34m\u001b[0m\u001b[0m\n",
      "\u001b[0;31mTypeError\u001b[0m: unsupported operand type(s) for -: 'list' and 'float'"
     ]
    }
   ],
   "source": [
    "print(\"CASOS NOVOS: \", testData[0])\n",
    "print(\"PREVISAO DO CASO NOVO\", knn(trainData, testData[0], K=13))"
   ]
  },
  {
   "cell_type": "code",
   "execution_count": null,
   "metadata": {},
   "outputs": [],
   "source": []
  },
  {
   "cell_type": "code",
   "execution_count": null,
   "metadata": {},
   "outputs": [],
   "source": []
  },
  {
   "cell_type": "code",
   "execution_count": null,
   "metadata": {},
   "outputs": [],
   "source": []
  },
  {
   "cell_type": "code",
   "execution_count": null,
   "metadata": {},
   "outputs": [],
   "source": []
  },
  {
   "cell_type": "code",
   "execution_count": 50,
   "metadata": {},
   "outputs": [],
   "source": [
    "\n",
    "\n",
    "# Get euclidian distance\n",
    "# \n",
    "\n"
   ]
  },
  {
   "cell_type": "code",
   "execution_count": null,
   "metadata": {},
   "outputs": [],
   "source": []
  },
  {
   "cell_type": "code",
   "execution_count": null,
   "metadata": {},
   "outputs": [],
   "source": []
  },
  {
   "cell_type": "code",
   "execution_count": null,
   "metadata": {},
   "outputs": [],
   "source": []
  },
  {
   "cell_type": "code",
   "execution_count": null,
   "metadata": {},
   "outputs": [],
   "source": []
  },
  {
   "cell_type": "code",
   "execution_count": null,
   "metadata": {},
   "outputs": [],
   "source": []
  },
  {
   "cell_type": "code",
   "execution_count": null,
   "metadata": {},
   "outputs": [],
   "source": []
  },
  {
   "cell_type": "code",
   "execution_count": null,
   "metadata": {},
   "outputs": [],
   "source": []
  },
  {
   "cell_type": "code",
   "execution_count": 26,
   "metadata": {},
   "outputs": [
    {
     "data": {
      "text/plain": [
       "5.1"
      ]
     },
     "execution_count": 26,
     "metadata": {},
     "output_type": "execute_result"
    }
   ],
   "source": [
    "p = '5.1'\n",
    "float(p)"
   ]
  },
  {
   "cell_type": "code",
   "execution_count": null,
   "metadata": {},
   "outputs": [],
   "source": []
  },
  {
   "cell_type": "code",
   "execution_count": null,
   "metadata": {},
   "outputs": [],
   "source": []
  },
  {
   "cell_type": "code",
   "execution_count": null,
   "metadata": {},
   "outputs": [],
   "source": []
  },
  {
   "cell_type": "code",
   "execution_count": null,
   "metadata": {},
   "outputs": [],
   "source": []
  }
 ],
 "metadata": {
  "kernelspec": {
   "display_name": "Python 3",
   "language": "python",
   "name": "python3"
  },
  "language_info": {
   "codemirror_mode": {
    "name": "ipython",
    "version": 3
   },
   "file_extension": ".py",
   "mimetype": "text/x-python",
   "name": "python",
   "nbconvert_exporter": "python",
   "pygments_lexer": "ipython3",
   "version": "3.6.3"
  }
 },
 "nbformat": 4,
 "nbformat_minor": 2
}
