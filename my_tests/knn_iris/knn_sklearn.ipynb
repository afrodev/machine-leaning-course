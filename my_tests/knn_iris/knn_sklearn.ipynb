{
 "cells": [
  {
   "cell_type": "code",
   "execution_count": 76,
   "metadata": {},
   "outputs": [
    {
     "data": {
      "text/plain": [
       "'\\nIris Dataset\\nDocs: https://archive.ics.uci.edu/ml/datasets/iris\\nAttributes\\n1. sepal length in cm \\n2. sepal width in cm \\n3. petal length in cm \\n4. petal width in cm \\n'"
      ]
     },
     "execution_count": 76,
     "metadata": {},
     "output_type": "execute_result"
    }
   ],
   "source": [
    "from sklearn.neighbors import KNeighborsClassifier\n",
    "import random\n",
    "'''\n",
    "Iris Dataset\n",
    "Docs: https://archive.ics.uci.edu/ml/datasets/iris\n",
    "Attributes\n",
    "1. sepal length in cm \n",
    "2. sepal width in cm \n",
    "3. petal length in cm \n",
    "4. petal width in cm \n",
    "'''"
   ]
  },
  {
   "cell_type": "code",
   "execution_count": 85,
   "metadata": {},
   "outputs": [],
   "source": [
    "todosAtributos, entradas, saidas = [], [], []"
   ]
  },
  {
   "cell_type": "code",
   "execution_count": 86,
   "metadata": {},
   "outputs": [],
   "source": [
    "# abertura do arquivo\n",
    "with open('iris.data', 'r') as f:\n",
    "    for linha in f.readlines():\n",
    "        attributes = linha.replace('\\n','').split(',')\n",
    "        todosAtributos.append(attributes)\n",
    "\n",
    "# mistura o dataset pois está em ordem de classe\n",
    "random.shuffle(todosAtributos)"
   ]
  },
  {
   "cell_type": "code",
   "execution_count": 87,
   "metadata": {},
   "outputs": [],
   "source": [
    "# Separa as entradas das saídas para uma melhor comparação\n",
    "#    no futuro\n",
    "for attr in todosAtributos:\n",
    "        sepalLength = float(attr[0])\n",
    "        sepalWidth = float(attr[1])\n",
    "        petalLength = float(attr[2])\n",
    "        petalWidth = float(attr[3])\n",
    "        classIris = str(attr[4])\n",
    "        \n",
    "        entradas.append([sepalLength, sepalWidth, petalLength, petalWidth])\n",
    "        saidas.append(classIris)"
   ]
  },
  {
   "cell_type": "code",
   "execution_count": 88,
   "metadata": {},
   "outputs": [],
   "source": [
    "# Porcentagem dos dados para o treinamento\n",
    "porcentagemTreino = 0.6 "
   ]
  },
  {
   "cell_type": "code",
   "execution_count": 89,
   "metadata": {},
   "outputs": [],
   "source": [
    "# index máximo para utilizar para treino\n",
    "#     e primeiro indice para testar se está correto\n",
    "limiteTreino = int(porcentagemTreino * len(entradas))\n",
    "\n",
    "# Esse inicializa a classe e fala quantos \n",
    "#   vizinhos terão de ser considerados\n",
    "knn = KNeighborsClassifier(n_neighbors=13) \n",
    "\n",
    "# Este faz o algoritmo treinar até o limite do percentual\n",
    "#   é preciso passar a quantidade de entradas e saidas que \n",
    "#   servirão de treino\n",
    "knn.fit(entradas[:limiteTreino], saidas[:limiteTreino]) \n",
    "\n",
    "# Pega todos os valores que não estão no treino para testar\n",
    "#    se a predição está correta ou não, com os 40% restantes\n",
    "testeEntradas = entradas[limiteTreino:]\n",
    "\n",
    "# Predict, prediz os valores de entrada passados como parâmetro\n",
    "# retorna uma lista de predições de saída\n",
    "labels = knn.predict(testeEntradas)"
   ]
  },
  {
   "cell_type": "code",
   "execution_count": 90,
   "metadata": {},
   "outputs": [],
   "source": [
    "# Verifica a quantidade de acertos e de erros\n",
    "acertos, indice_label = 0,0\n",
    "for i in range(limiteTreino, len(entradas)):\n",
    "    if labels[indice_label] == saidas[i]:\n",
    "        acertos += 1\n",
    "    \n",
    "    indice_label += 1"
   ]
  },
  {
   "cell_type": "code",
   "execution_count": 91,
   "metadata": {},
   "outputs": [
    {
     "name": "stdout",
     "output_type": "stream",
     "text": [
      "Total de treinamento: 90\n",
      "Total de testes: 60\n",
      "Total de acertos: 57\n",
      "Porcentagem de acertos: 95.00\n"
     ]
    }
   ],
   "source": [
    "# mostra a quantidade e percentual de acertos\n",
    "totalTestes = (len(entradas) - limiteTreino)\n",
    "porcentagemAcertos = ((acertos * 100) / (len(entradas) - limiteTreino) )\n",
    "\n",
    "print(\"Total de treinamento: %d\" % limiteTreino)\n",
    "print(\"Total de testes: %d\" % totalTestes)\n",
    "print(\"Total de acertos: %d\" % acertos)\n",
    "print(\"Porcentagem de acertos: %.2f\" % porcentagemAcertos )"
   ]
  },
  {
   "cell_type": "code",
   "execution_count": null,
   "metadata": {},
   "outputs": [],
   "source": []
  },
  {
   "cell_type": "code",
   "execution_count": 84,
   "metadata": {},
   "outputs": [
    {
     "name": "stdout",
     "output_type": "stream",
     "text": [
      "[[4, 4, 4], [3, 3, 3], [5], [2, 2, 2], [1, 1, 1, 1, 1]]\n"
     ]
    }
   ],
   "source": [
    "# teste de misturar as linhas do array\n",
    "ar = [[1,1,1,1,1],[2,2,2],[3,3,3],[4,4,4],[5]]\n",
    "random.shuffle(ar)\n",
    "print(ar)"
   ]
  },
  {
   "cell_type": "code",
   "execution_count": null,
   "metadata": {},
   "outputs": [],
   "source": []
  },
  {
   "cell_type": "code",
   "execution_count": null,
   "metadata": {},
   "outputs": [],
   "source": []
  },
  {
   "cell_type": "code",
   "execution_count": null,
   "metadata": {},
   "outputs": [],
   "source": []
  },
  {
   "cell_type": "code",
   "execution_count": null,
   "metadata": {},
   "outputs": [],
   "source": []
  },
  {
   "cell_type": "code",
   "execution_count": null,
   "metadata": {},
   "outputs": [],
   "source": []
  },
  {
   "cell_type": "code",
   "execution_count": null,
   "metadata": {},
   "outputs": [],
   "source": []
  },
  {
   "cell_type": "code",
   "execution_count": null,
   "metadata": {},
   "outputs": [],
   "source": []
  },
  {
   "cell_type": "code",
   "execution_count": null,
   "metadata": {},
   "outputs": [],
   "source": []
  },
  {
   "cell_type": "code",
   "execution_count": null,
   "metadata": {},
   "outputs": [],
   "source": []
  },
  {
   "cell_type": "code",
   "execution_count": null,
   "metadata": {},
   "outputs": [],
   "source": []
  },
  {
   "cell_type": "code",
   "execution_count": null,
   "metadata": {},
   "outputs": [],
   "source": []
  },
  {
   "cell_type": "code",
   "execution_count": null,
   "metadata": {},
   "outputs": [],
   "source": []
  },
  {
   "cell_type": "code",
   "execution_count": null,
   "metadata": {},
   "outputs": [],
   "source": []
  },
  {
   "cell_type": "code",
   "execution_count": null,
   "metadata": {},
   "outputs": [],
   "source": []
  },
  {
   "cell_type": "code",
   "execution_count": null,
   "metadata": {},
   "outputs": [],
   "source": []
  },
  {
   "cell_type": "code",
   "execution_count": null,
   "metadata": {},
   "outputs": [],
   "source": []
  },
  {
   "cell_type": "code",
   "execution_count": null,
   "metadata": {},
   "outputs": [],
   "source": []
  }
 ],
 "metadata": {
  "kernelspec": {
   "display_name": "Python 3",
   "language": "python",
   "name": "python3"
  },
  "language_info": {
   "codemirror_mode": {
    "name": "ipython",
    "version": 3
   },
   "file_extension": ".py",
   "mimetype": "text/x-python",
   "name": "python",
   "nbconvert_exporter": "python",
   "pygments_lexer": "ipython3",
   "version": "3.6.3"
  }
 },
 "nbformat": 4,
 "nbformat_minor": 2
}
